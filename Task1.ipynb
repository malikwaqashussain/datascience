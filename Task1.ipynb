{
  "nbformat": 4,
  "nbformat_minor": 0,
  "metadata": {
    "colab": {
      "provenance": []
    },
    "kernelspec": {
      "name": "python3",
      "display_name": "Python 3"
    },
    "language_info": {
      "name": "python"
    }
  },
  "cells": [
    {
      "cell_type": "markdown",
      "source": [
        "**Find the Student with Highest Score**"
      ],
      "metadata": {
        "id": "ponBG_fdTvAU"
      }
    },
    {
      "cell_type": "code",
      "source": [
        "def highest_score_student(scores_dict):\n",
        "    if not scores_dict:\n",
        "        return None  # Handle empty dictionary case\n",
        "    return max(scores_dict, key=scores_dict.get)\n",
        "students = {\"Alice\": 85, \"Bob\": 90, \"Charlie\": 92}\n",
        "top_student = highest_score_student(students)\n",
        "print(top_student)  # Output: \"Charlie\"\n"
      ],
      "metadata": {
        "id": "R-Np7NtMRHqm",
        "colab": {
          "base_uri": "https://localhost:8080/"
        },
        "outputId": "cb1e695d-5209-4a4f-a23f-283532c6bc08"
      },
      "execution_count": 2,
      "outputs": [
        {
          "output_type": "stream",
          "name": "stdout",
          "text": [
            "Charlie\n"
          ]
        }
      ]
    },
    {
      "cell_type": "markdown",
      "source": [
        "**Apply Lamda to List**"
      ],
      "metadata": {
        "id": "389mykOuUNuV"
      }
    },
    {
      "cell_type": "code",
      "source": [
        "def apply_lambda_to_list(lst, func):\n",
        "    return list(map(func, lst))\n",
        "numbers = [1, 2, 3, 4]\n",
        "squared = apply_lambda_to_list(numbers, lambda x: x ** 2)\n",
        "print(squared)  # Output: [1, 4, 9, 16]\n"
      ],
      "metadata": {
        "colab": {
          "base_uri": "https://localhost:8080/"
        },
        "id": "NllIV1OzTuMm",
        "outputId": "bcc53dd1-eb94-40e0-8273-1ae633c7a1ba"
      },
      "execution_count": 3,
      "outputs": [
        {
          "output_type": "stream",
          "name": "stdout",
          "text": [
            "[1, 4, 9, 16]\n"
          ]
        }
      ]
    },
    {
      "cell_type": "markdown",
      "source": [
        "**Sum or Multiply Based on Keyword Argument**"
      ],
      "metadata": {
        "id": "pB45SrjVU17_"
      }
    },
    {
      "cell_type": "code",
      "source": [
        "def compute(*args, operation='sum'):\n",
        "    if operation == 'multiply':\n",
        "        result = 1\n",
        "        for num in args:\n",
        "            result *= num\n",
        "        return result\n",
        "    else:\n",
        "        return sum(args)\n",
        "print(compute(1, 2, 3, 4, operation='multiply'))  # Output: 24\n",
        "print(compute(1, 2, 3, 4))                        # Output: 10 (default is sum)\n"
      ],
      "metadata": {
        "colab": {
          "base_uri": "https://localhost:8080/"
        },
        "id": "VAJPvHtkU4Hu",
        "outputId": "cb489d1b-d6fe-45b5-89f4-b29f58095b53"
      },
      "execution_count": 4,
      "outputs": [
        {
          "output_type": "stream",
          "name": "stdout",
          "text": [
            "24\n",
            "10\n"
          ]
        }
      ]
    }
  ]
}